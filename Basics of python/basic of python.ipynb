{
 "cells": [
  {
   "cell_type": "markdown",
   "metadata": {},
   "source": [
    "<h1>P Yogesh Nayaka\n",
    "\n",
    "yogeshnayaka222@gmail.com\n",
    "\n",
    "Data Science"
   ]
  },
  {
   "cell_type": "markdown",
   "metadata": {},
   "source": [
    "Exercise 1: Prime Numbers\n",
    "\n",
    "Write a Python program that checks whether a given number is prime or not. A prime number is a natural number greater than 1 that has no positive divisors other than 1 and itself."
   ]
  },
  {
   "cell_type": "code",
   "execution_count": 1,
   "metadata": {},
   "outputs": [
    {
     "name": "stdout",
     "output_type": "stream",
     "text": [
      "5 is a prime number\n"
     ]
    }
   ],
   "source": [
    "#Taking user input using input() and converting it into integer using int()\n",
    "num = int(input('Enter an positive integer:'))\n",
    "\n",
    "#Checking if entered number is positive or not using if-else statement\n",
    "if(num<0):\n",
    "    print('Enter a positive integer')\n",
    "\n",
    "#if number if positive continue with else statement\n",
    "else:\n",
    "    #Nested if-else statement to check if number is prime or not\n",
    "    #One is not a prime number so we check the condition using if statement\n",
    "    if(num==1):\n",
    "        print('Not a prime number')\n",
    "\n",
    "    #if number is not one the continue with else statement\n",
    "    else:\n",
    "        #Using for loop we itrate from 2 to the given number-1\n",
    "        for i in range(2,num):\n",
    "            #Using if statement we check if number is divisible by any-other number, if it is divisible then we print the output and break the loop\n",
    "            if (num%i==0):\n",
    "                print(f'{num} is not a prime number')\n",
    "                break\n",
    "            #as number is not divisible any other number, we print that it is a prime number and break the loop\n",
    "            else:\n",
    "                print(f'{num} is a prime number')\n",
    "                break"
   ]
  },
  {
   "cell_type": "markdown",
   "metadata": {},
   "source": [
    "Exercise 2: Product of Random Numbers\n",
    "\n",
    "Develop a Python program that generates two random numbers and asks the user to enter the product of these numbers. The program should then check if the user's answer is correct and display an appropriate message."
   ]
  },
  {
   "cell_type": "code",
   "execution_count": 2,
   "metadata": {},
   "outputs": [],
   "source": [
    "#using random module for printing random number\n",
    "import random as rd"
   ]
  },
  {
   "cell_type": "code",
   "execution_count": 11,
   "metadata": {},
   "outputs": [
    {
     "name": "stdout",
     "output_type": "stream",
     "text": [
      "0x6=\n",
      "\n",
      "Wrong\n",
      "0x6=\n",
      "\n",
      "Wrong\n",
      "0x6=\n",
      "\n",
      "Wrong\n",
      "0x6=\n",
      "\n",
      "Wrong\n",
      "0x6=\n",
      "\n",
      "Wrong\n",
      "0x6=\n",
      "\n",
      "Correct\n",
      "0x6=0\n"
     ]
    }
   ],
   "source": [
    "#prints number from 0-9999\n",
    "#x=rd.randint(0,10000)\n",
    "#y=rd.randint(0,10000)\n",
    "\n",
    "#prints number from 0-9\n",
    "x=rd.randint(0,10)\n",
    "y=rd.randint(0,10)\n",
    "\n",
    "#Using a f variable as a switch for while loop\n",
    "f=False\n",
    "\n",
    "#when f is false while loop continues\n",
    "#if f is True while loop is terminated (explained further below)\n",
    "while(f==False):\n",
    "    #taking inputs from the user\n",
    "    print(f'{x}x{y}=\\n')\n",
    "    ans=int(input(''))\n",
    "\n",
    "    #checking conditions using if-else statement\n",
    "    if(ans==(x*y)):\n",
    "        #if the user enters the right answer, we print the correct answer and change f variable to True\n",
    "        print('Correct')\n",
    "        print(f'{x}x{y}={ans}')\n",
    "        f=True\n",
    "    else:\n",
    "        #if the user enters wrong answer, f remains False and loop continues\n",
    "        print('Wrong')\n",
    "        \n"
   ]
  },
  {
   "cell_type": "markdown",
   "metadata": {},
   "source": [
    "Exercise 3: Squares of Even/Odd Numbers\n",
    "\n",
    "Create a Python script that prints the squares of all even or odd numbers within the range of 100 to 200. Choose either even or odd numbers and document your choice in the code."
   ]
  },
  {
   "cell_type": "code",
   "execution_count": 12,
   "metadata": {},
   "outputs": [
    {
     "name": "stdout",
     "output_type": "stream",
     "text": [
      "All even numbers from 100-200 are:\n",
      "10000, 10404, 10816, 11236, 11664, 12100, 12544, 12996, 13456, 13924, 14400, 14884, 15376, 15876, 16384, 16900, 17424, 17956, 18496, 19044, 19600, 20164, 20736, 21316, 21904, 22500, 23104, 23716, 24336, 24964, 25600, 26244, 26896, 27556, 28224, 28900, 29584, 30276, 30976, 31684, 32400, 33124, 33856, 34596, 35344, 36100, 36864, 37636, 38416, 39204, 40000\n"
     ]
    }
   ],
   "source": [
    "print('Square of all even numbers from 100-200 are:')\n",
    "#Using for loop to iterate number 100 to 200\n",
    "for i in range(100,201):\n",
    "    #Checking if number if even or not by using modulus(gives reminder) \n",
    "    if(i%2==0):\n",
    "        # if i is even the it is squared using exponent function(**)\n",
    "        print(f'{i**2}, ',end=\"\")#To make the output presentable end is used, it prints the output next to the previous one\n",
    "\n",
    "#backspace escape sequence is used for remove comma(and space) used in the output\n",
    "print('\\b\\b')"
   ]
  },
  {
   "cell_type": "markdown",
   "metadata": {},
   "source": [
    "Exercise 4: Word counter\n",
    "\n",
    "write a program to count the number of words in a given text."
   ]
  },
  {
   "cell_type": "code",
   "execution_count": null,
   "metadata": {},
   "outputs": [
    {
     "data": {
      "text/plain": [
       "{'a': 1}"
      ]
     },
     "execution_count": 35,
     "metadata": {},
     "output_type": "execute_result"
    }
   ],
   "source": [
    "#Input prompt for the user to enter the text\n",
    "text=input('Enter text:')\n",
    "\n",
    "#Coverting the text into lower case and spliting it and storing it in a variable\n",
    "a=text.lower().split()\n",
    "\n",
    "#Creating an empty dict for storing word and its count\n",
    "count={}\n",
    "\n",
    "#looping through a \n",
    "for i in a:\n",
    "    #if i is already present in the dict, then we add 1 \n",
    "    if i in count:\n",
    "        count[i]+=1\n",
    "    #if i is a new word then new count is introduced\n",
    "    else:\n",
    "        count[i]=1\n",
    "\n",
    "#printing the count dict\n",
    "count\n"
   ]
  },
  {
   "cell_type": "markdown",
   "metadata": {},
   "source": [
    "Exercise 5: Check for Palindrome\n",
    "\n",
    "Write a Python function called is_palindrome that takes a string as input and returns True if the string is a palindrome, and False otherwise. A palindrome is a word, phrase, number, or other sequence of characters that reads the same forward and backward, ignoring spaces, punctuation, and capitalization."
   ]
  },
  {
   "cell_type": "code",
   "execution_count": 13,
   "metadata": {},
   "outputs": [
    {
     "name": "stdout",
     "output_type": "stream",
     "text": [
      "Palindrome\n"
     ]
    }
   ],
   "source": [
    "#Taking user input\n",
    "wrd = input('Enter a string:')\n",
    "\n",
    "#COnverting it into lower string for uniformity\n",
    "wrd = wrd.lower()\n",
    "\n",
    "#initialzie flag variable\n",
    "flag = 1\n",
    "\n",
    "#A for loop to itrate from 0 to lenght of word\n",
    "for i in range(0, int(len(wrd)/2)):\n",
    "    #if starting word and ending word are not same then flag is 0 and break is used to break the loop\n",
    "    if wrd[i] != wrd[len(wrd)-i-1]:\n",
    "        flag = 0\n",
    "        break\n",
    "#using if-else statemeent, with flag variable\n",
    "#If flag is one then prints palindrome\n",
    "if flag == 1:\n",
    "    print('Palindrome')\n",
    "#If flag is not one then prints Not palindrome\n",
    "else:\n",
    "    print('Not palindrome')\n",
    "\n"
   ]
  }
 ],
 "metadata": {
  "kernelspec": {
   "display_name": "Python 3",
   "language": "python",
   "name": "python3"
  },
  "language_info": {
   "codemirror_mode": {
    "name": "ipython",
    "version": 3
   },
   "file_extension": ".py",
   "mimetype": "text/x-python",
   "name": "python",
   "nbconvert_exporter": "python",
   "pygments_lexer": "ipython3",
   "version": "3.12.2"
  }
 },
 "nbformat": 4,
 "nbformat_minor": 2
}
